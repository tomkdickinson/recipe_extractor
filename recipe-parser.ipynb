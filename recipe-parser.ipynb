{
 "cells": [
  {
   "cell_type": "markdown",
   "id": "14360848eefac58e",
   "metadata": {},
   "source": [
    "# Recipe Parser\n",
    "\n",
    "This Notebook serves as an example of how we can use LLMs to extract and format recipes into a given format using OpenAI's GPT-4o-mini model.\n",
    "\n",
    "For a given URL, the goal is to have the model extract the recipe into a known JSON format, and then have it re-write it in the specified Markdown format."
   ]
  },
  {
   "cell_type": "code",
   "id": "initial_id",
   "metadata": {},
   "source": [
    "from langchain_openai import ChatOpenAI\n",
    "import getpass\n",
    "import os\n",
    "\n",
    "os.environ[\"OPENAI_API_KEY\"] = getpass.getpass()"
   ],
   "outputs": [],
   "execution_count": null
  },
  {
   "cell_type": "code",
   "id": "fec722ec8635d1b6",
   "metadata": {},
   "source": [
    "model = ChatOpenAI(\n",
    "    model=\"gpt-4o-mini\",\n",
    ")"
   ],
   "outputs": [],
   "execution_count": null
  },
  {
   "cell_type": "markdown",
   "id": "3afd1aa5ed3fb5d",
   "metadata": {},
   "source": [
    "As some websites might use JavaScript to post-process content for a URL, we want to use a headless browser and wait for a few seconds to give it some time to render.\n",
    "\n",
    "We will be using Selenium to load the page and then use BeautifulSoup to parse the HTML, returning just the text content."
   ]
  },
  {
   "cell_type": "code",
   "id": "4455363eb4356bbd",
   "metadata": {},
   "source": [
    "from selenium import webdriver\n",
    "from bs4 import BeautifulSoup\n",
    "\n",
    "options = webdriver.ChromeOptions()\n",
    "options.add_argument('--headless')\n",
    "driver = webdriver.Chrome(options=options)\n",
    "\n",
    "\n",
    "def load_url(url):\n",
    "    driver.get(url)\n",
    "    driver.implicitly_wait(2)\n",
    "    return BeautifulSoup(driver.page_source).get_text()"
   ],
   "outputs": [],
   "execution_count": null
  },
  {
   "cell_type": "markdown",
   "id": "5d98ff0eac9b1624",
   "metadata": {},
   "source": [
    "Next we will define the format of the recipe that we want to extract using pydantic. This will be a JSON object with the following structure:\n",
    "\n",
    "```json\n",
    "{\n",
    "    \"name\": \"Name of the recipe\",\n",
    "    \"recipe_url\": \"URL of the recipe\",\n",
    "    \"ingredients\": [\n",
    "        {\n",
    "            \"name\": \"Name of ingredient\",\n",
    "            \"quantity\": \"Quantity of ingredient\",\n",
    "            \"unit\": \"Unit of ingredient\",\n",
    "            \"directions\": \"Directions on how to use the ingredient\"\n",
    "        }\n",
    "    ],\n",
    "    \"instructions\": \"Cooking instructions\"\n",
    "}\n",
    "```"
   ]
  },
  {
   "cell_type": "code",
   "id": "cc02861c1002a99d",
   "metadata": {},
   "source": [
    "from langchain_core.prompts import PromptTemplate\n",
    "from langchain_core.output_parsers import JsonOutputParser\n",
    "from langchain_core.output_parsers import StrOutputParser\n",
    "from pydantic import BaseModel, Field\n",
    "from typing import List, Optional\n",
    "import json\n",
    "\n",
    "\n",
    "class Ingredient(BaseModel):\n",
    "    name: str = Field(..., title=\"Name of ingredient\")\n",
    "    quantity: str = Field(..., title=\"Quantity of ingredient\")\n",
    "    unit: str = Field(..., title=\"Unit of ingredient\")\n",
    "    directions: Optional[str] = Field(..., title=\"Directions on how to use the ingredient\")\n",
    "\n",
    "\n",
    "class Recipe(BaseModel):\n",
    "    name: str = Field(..., title=\"Name of the recipe\")\n",
    "    recipe_url: str = Field(..., title=\"URL of the recipe\")\n",
    "    ingredients: List[Ingredient] = Field(..., title=\"List of ingredients\")\n",
    "    instructions: str = Field(..., title=\"Cooking instructions\")\n",
    "\n",
    "\n",
    "parser = JsonOutputParser(pydantic_object=Recipe)\n",
    "\n",
    "recipe_extractor_prompt = PromptTemplate(\n",
    "    template=\"Extract the recipe.\\n{format_instructions}\\n{recipe}\\n{recipe_url}\\n\",\n",
    "    input_variables=[\"recipe\", \"recipe_url\"],\n",
    "    partial_variables={\"format_instructions\": parser.get_format_instructions()},\n",
    ")"
   ],
   "outputs": [],
   "execution_count": null
  },
  {
   "cell_type": "markdown",
   "id": "84ce25d003302a72",
   "metadata": {},
   "source": [
    "Next, let's create some n shot instructions on how we want the recipe to be transcribed from the JSON content. For this example, we will be providing a general format with two recipe examples."
   ]
  },
  {
   "cell_type": "code",
   "id": "93f804eb752d4c06",
   "metadata": {},
   "source": [
    "recipe_format = \"\"\"\n",
    "\n",
    "The format to write the recipe is the following:\n",
    "\n",
    "# [Name of Recipe](URL of Recipe)\n",
    "\n",
    "## Ingredients\n",
    "\n",
    "* Ingredient 1, cutting instructions (if any)\n",
    "\n",
    "## Method\n",
    "\n",
    "Recipe instructions\n",
    "\n",
    "Below are some example recipes, each one separated by a horizontal line.\n",
    "\n",
    "----\n",
    "\n",
    "# [Chicken Teriyaki](https://www.bbcgoodfood.com/recipes/chicken-teriyaki)\n",
    "\n",
    "## Ingredients\n",
    "\n",
    "* 600g Boneless Chicken Thighs\n",
    "* 6 tbsp Clear Honey\n",
    "* 6 tbsp Soy Sauce (Blue Dragon)\n",
    "* 6 tbsp Toasted Sesame Seed Oil\n",
    "* 1 tbsp Tabasco Sauce\n",
    "* Butter for sauce\n",
    "* 200g Basmati Rice to serve\n",
    "\n",
    "## Method\n",
    "\n",
    "Cut the chicken thighs into strips.\n",
    "\n",
    "Mix the honey, soy sauce, sesame seed oil, and tabasco in a bowl, and put the sliced chicken in. Marinade for at least 10 minutes.\n",
    "\n",
    "Get a wok hot (if you drop a little bit of water onto it, it should turn into a sphere).\n",
    "\n",
    "Using a sieve, drain the sauce from the marinated chicken into another pan.\n",
    "\n",
    "Bring the marinade sauce to the boil for a few minutes, while you stir fry the chicken for 5 minutes.\n",
    "\n",
    "Whisk some butter into the boiler marinade sauce.\n",
    "\n",
    "----\n",
    "\n",
    "# [Prawn and Chorizo Rice Recipe](https://www.bbcgoodfood.com/recipes/prawn-chorizo-rice)\n",
    "\n",
    "## Ingredients\n",
    "\n",
    "* ½ tbsp olive oil\n",
    "* 90g Cooks’ Ingredients Diced Chorizo\n",
    "* 1/2 large onion, thinly sliced\n",
    "* 1 sticks celery, halved lengthways then thinly sliced\n",
    "* 1 red peppers, deseeded and thinly sliced\n",
    "* 1 cloves garlic, crushed\n",
    "* 1½ tsp Cajun spice\n",
    "* 120g Arborio rice\n",
    "* 250ml passata\n",
    "* 250ml vegetable stock\n",
    "*  180g packs raw extra large king prawns\n",
    "* Parsley, chopped\n",
    "\n",
    "## Method\n",
    "\n",
    "Heat the oil in a casserole dish or sauté pan over a medium heat. Add the chorizo and fry for 2 minutes, until lightly browned. Remove to a plate with a slotted spoon and leave the oil in the pan.\n",
    "\n",
    "Add the onion, celery and peppers and cook for 5-7 minutes until soft. Add the garlic and Cajun seasoning. Cook for 30 seconds before adding the rice, passata and stock. Simmer for 20 minutes, stirring occasionally so the base doesn’t stick.\n",
    "\n",
    "Stir the chorizo back into the pan with the prawns and cook for another 4-5 minutes until piping hot and the rice is tender. Divide between 4 plates and scatter with the parsley.\n",
    "\n",
    "\"\"\"\n",
    "\n",
    "recipe_output_prompt = PromptTemplate(\n",
    "    template=\"Write the recipe in the given format. \\n{format_instructions}\\n{recipe}\\n{recipe_url}\\n\",\n",
    "    input_variables=[\"recipe\", \"recipe_url\"],\n",
    "    partial_variables={\"format_instructions\": recipe_format},\n",
    ")"
   ],
   "outputs": [],
   "execution_count": null
  },
  {
   "cell_type": "markdown",
   "id": "2f71ee197f648c58",
   "metadata": {},
   "source": [
    "Finally, let's set up our individual chains and an `extract_and_transcribe_recipe` function. \n",
    "\n",
    "The first chain will be used to extract the recipe into the JSON format we have specified above, while the second will to transcribe the recipe into the Markdown format. "
   ]
  },
  {
   "cell_type": "code",
   "id": "a1c91703e062184b",
   "metadata": {},
   "source": [
    "recipe_extractor = recipe_extractor_prompt | model | parser\n",
    "recipe_writer = recipe_output_prompt | model | StrOutputParser()\n",
    "\n",
    "def extract_and_transcribe_recipe(url):\n",
    "    print(f\"Extracting recipe from {url}\")\n",
    "    print(\"Loading source\")\n",
    "    url_source = load_url(url)\n",
    "\n",
    "    print(\"Converting source into JSON format\")\n",
    "    recipe_json = recipe_extractor.invoke({\n",
    "        \"recipe\": url_source,\n",
    "        \"recipe_url\": url,\n",
    "    })\n",
    "    \n",
    "    print(\"Writing recipe in Markdown format\")\n",
    "    return recipe_writer.invoke({\n",
    "        \"recipe\": json.dumps(recipe_json),\n",
    "        \"recipe_url\": url,\n",
    "    })\n"
   ],
   "outputs": [],
   "execution_count": null
  },
  {
   "cell_type": "markdown",
   "id": "b261feda0f2d0ba8",
   "metadata": {},
   "source": [
    "To give a sense of how generic this is, we will go through a List of different URLs from different sites, extracting each one into the prefered Markdown format."
   ]
  },
  {
   "cell_type": "code",
   "id": "f8e4238ef338ed2d",
   "metadata": {},
   "source": [
    "recipe_urls = [\n",
    "    # Gordon Ramsay\n",
    "    \"https://www.gordonramsay.com/gr/recipes/pan-seared-scallops-with-butternut-squash-puree-and-pomegranate-quince-slaw/\",\n",
    "    # Jamie Oliver\n",
    "    \"https://www.jamieoliver.com/recipes/vegetable-recipes/veggie-chilli/\",\n",
    "    # BBC Good Food\n",
    "    \"https://www.bbcgoodfood.com/recipes/spiced-pumpkin-soup-2\",\n",
    "    # The Pioneer Woman\n",
    "    \"https://www.thepioneerwoman.com/food-cooking/recipes/a85701/how-to-make-chocolate-pudding/\"\n",
    "    \n",
    "]"
   ],
   "outputs": [],
   "execution_count": null
  },
  {
   "cell_type": "code",
   "id": "6b04e5e7e34b1b74",
   "metadata": {},
   "source": [
    "recipes = [extract_and_transcribe_recipe(url) for url in recipe_urls]"
   ],
   "outputs": [],
   "execution_count": null
  },
  {
   "cell_type": "code",
   "id": "b07610cbd53d66d3",
   "metadata": {},
   "source": [
    "print(\"\\n\\n\".join(recipes))"
   ],
   "outputs": [],
   "execution_count": null
  },
  {
   "cell_type": "code",
   "id": "814a1d62-3ccd-4ecc-b963-922b2055176d",
   "metadata": {},
   "source": [],
   "outputs": [],
   "execution_count": null
  }
 ],
 "metadata": {
  "kernelspec": {
   "display_name": "Python 3 (ipykernel)",
   "language": "python",
   "name": "python3"
  },
  "language_info": {
   "codemirror_mode": {
    "name": "ipython",
    "version": 3
   },
   "file_extension": ".py",
   "mimetype": "text/x-python",
   "name": "python",
   "nbconvert_exporter": "python",
   "pygments_lexer": "ipython3",
   "version": "3.13.0"
  }
 },
 "nbformat": 4,
 "nbformat_minor": 5
}
